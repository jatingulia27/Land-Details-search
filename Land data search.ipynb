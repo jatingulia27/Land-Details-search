{
 "cells": [
  {
   "cell_type": "markdown",
   "id": "744a322e",
   "metadata": {},
   "source": [
    "I've written this code in such a way that you only need to input the names of the District, Manadal, and village. \n",
    "\n",
    "I have printed all of them for you, you can input them and then all the survey numbers will be printed for them"
   ]
  },
  {
   "cell_type": "markdown",
   "id": "93edf329",
   "metadata": {},
   "source": [
    "# Land Details search"
   ]
  },
  {
   "cell_type": "code",
   "execution_count": null,
   "id": "985025a5",
   "metadata": {},
   "outputs": [],
   "source": [
    "import time\n",
    "from selenium import webdriver\n",
    "from selenium.webdriver.chrome.service import Service\n",
    "from selenium.webdriver.common.by import By\n",
    "from selenium.webdriver.chrome.options import Options\n",
    "\n",
    "# Setting Chrome options for headless mode\n",
    "chrome_options = Options()\n",
    "chrome_options.add_argument(\"--headless\")  # Run in headless mode\n",
    "\n",
    "# Creating the WebDriver with the specified options\n",
    "driver = webdriver.Chrome(options=chrome_options)\n",
    "\n",
    "# Changing the property of the navigator value for webdriver to undefined \n",
    "driver.execute_script(\"Object.defineProperty(navigator, 'webdriver', {get: () => undefined})\")\n",
    "\n",
    "# Opening the webpage\n",
    "driver.get(\"https://dharani.telangana.gov.in/knowLandStatus\")\n",
    "\n"
   ]
  },
  {
   "cell_type": "markdown",
   "id": "ed87e40c",
   "metadata": {},
   "source": [
    "# District Name"
   ]
  },
  {
   "cell_type": "code",
   "execution_count": null,
   "id": "9b531c8f",
   "metadata": {},
   "outputs": [],
   "source": [
    "\n",
    "# Locate the <select> element by its ID\n",
    "select_element = Select(driver.find_element(By.ID, \"districtID\"))\n",
    "\n",
    "# Initialize an empty dictionary to store options\n",
    "options_dict = {}\n",
    "\n",
    "# Get all options within the <select> element\n",
    "options = select_element.options\n",
    "\n",
    "# Iterate over options and store their index number and text in the dictionary\n",
    "for index, option in enumerate(options):\n",
    "    options_dict[index] = option.text\n",
    "\n",
    "# Print the options dictionary\n",
    "print(options_dict)\n",
    "\n",
    "# Prompt the user for input\n",
    "user_input = input(\"Enter Village Name: \")\n",
    "\n",
    "# Split the user input into words and take the first four words\n",
    "user_input_first_four = ' '.join(user_input.lower().split()[:4])\n",
    "\n",
    "# Initialize a list to store matching indexes\n",
    "matching_indexes = []\n",
    "\n",
    "# Iterate over the options dictionary\n",
    "for index, option_text in options_dict.items():\n",
    "    # Convert the option text to lowercase for case-insensitive comparison\n",
    "    option_text_lower = option_text.lower()\n",
    "    # Split the option text into words and take the first four words\n",
    "    option_text_first_four = ' '.join(option_text_lower.split()[:4])\n",
    "    # Check if the first four words of the user input match the option text\n",
    "    if user_input_first_four in option_text_first_four:\n",
    "        matching_indexes.append(index)\n",
    "\n",
    "# Print the matching indexes\n",
    "if matching_indexes:\n",
    "    print(\"Matches found at indexes:\", matching_indexes)\n",
    "    # Assume you want to select the first matching index\n",
    "    select_index = matching_indexes[0]\n",
    "    # Select the option by index\n",
    "    select_element.select_by_index(select_index)\n",
    "    print(\"Selected option with index:\", select_index)\n",
    "else:\n",
    "    print(\"No matches found.\")\n",
    "\n",
    "# Close the WebDriver\n"
   ]
  },
  {
   "cell_type": "markdown",
   "id": "5dae654e",
   "metadata": {},
   "source": [
    "# Mandal Name"
   ]
  },
  {
   "cell_type": "code",
   "execution_count": null,
   "id": "73f06f59",
   "metadata": {},
   "outputs": [],
   "source": [
    "# Locate the <select> element by its ID (assuming it's \"mandalID\")\n",
    "select_element = Select(driver.find_element(By.ID, \"mandalID\"))\n",
    "\n",
    "# Initialize an empty dictionary to store options\n",
    "options_dict = {}\n",
    "\n",
    "# Get all options within the <select> element\n",
    "options = select_element.options\n",
    "\n",
    "# Iterate over options and store their index number and text in the dictionary\n",
    "for index, option in enumerate(options):\n",
    "    options_dict[index] = option.text\n",
    "\n",
    "# Print the options dictionary\n",
    "print(options_dict)\n",
    "\n",
    "# Prompt the user for input\n",
    "user_input = input(\"Enter Mandal Name: \")\n",
    "\n",
    "# Split the user input into words and take the first four words\n",
    "user_input_first_four = ' '.join(user_input.lower().split()[:4])\n",
    "\n",
    "# Initialize a list to store matching indexes\n",
    "matching_indexes = []\n",
    "\n",
    "# Iterate over the options dictionary\n",
    "for index, option_text in options_dict.items():\n",
    "    # Convert the option text to lowercase for case-insensitive comparison\n",
    "    option_text_lower = option_text.lower()\n",
    "    # Split the option text into words and take the first four words\n",
    "    option_text_first_four = ' '.join(option_text_lower.split()[:4])\n",
    "    # Check if the first four words of the user input match the option text\n",
    "    if user_input_first_four in option_text_first_four:\n",
    "        matching_indexes.append(index)\n",
    "\n",
    "# Print the matching indexes\n",
    "if matching_indexes:\n",
    "    print(\"Matches found at indexes:\", matching_indexes)\n",
    "    # Assume you want to select the first matching index\n",
    "    select_index = matching_indexes[0]\n",
    "    # Select the option by index\n",
    "    select_element.select_by_index(select_index)\n",
    "    print(\"Selected option with index:\", select_index)\n",
    "else:\n",
    "    print(\"No matches found.\")\n"
   ]
  },
  {
   "cell_type": "markdown",
   "id": "3a544eb6",
   "metadata": {},
   "source": [
    "# Village Name"
   ]
  },
  {
   "cell_type": "code",
   "execution_count": null,
   "id": "1bdc64fa",
   "metadata": {},
   "outputs": [],
   "source": [
    "# Locate the <select> element by its ID (assuming it's \"villageId\")\n",
    "select_element = Select(driver.find_element(By.ID, \"villageId\"))\n",
    "\n",
    "# Initialize an empty dictionary to store options\n",
    "options_dict = {}\n",
    "\n",
    "# Get all options within the <select> element\n",
    "options = select_element.options\n",
    "\n",
    "# Iterate over options and store their index number and text in the dictionary\n",
    "for index, option in enumerate(options):\n",
    "    options_dict[index] = option.text\n",
    "\n",
    "# Print the options dictionary\n",
    "print(options_dict)\n",
    "\n",
    "# Prompt the user for input\n",
    "user_input = input(\"Enter Village Name: \")\n",
    "\n",
    "# Split the user input into words and take the first four words\n",
    "user_input_first_four = ' '.join(user_input.lower().split()[:4])\n",
    "\n",
    "# Initialize a list to store matching indexes\n",
    "matching_indexes = []\n",
    "\n",
    "# Iterate over the options dictionary\n",
    "for index, option_text in options_dict.items():\n",
    "    # Convert the option text to lowercase for case-insensitive comparison\n",
    "    option_text_lower = option_text.lower()\n",
    "    # Split the option text into words and take the first four words\n",
    "    option_text_first_four = ' '.join(option_text_lower.split()[:4])\n",
    "    # Check if the first four words of the user input match the option text\n",
    "    if user_input_first_four in option_text_first_four:\n",
    "        matching_indexes.append(index)\n",
    "\n",
    "# Print the matching indexes\n",
    "if matching_indexes:\n",
    "    print(\"Matches found at indexes:\", matching_indexes)\n",
    "    # Assume you want to select the first matching index\n",
    "    select_index = matching_indexes[0]\n",
    "    # Select the option by index\n",
    "    select_element.select_by_index(select_index)\n",
    "    print(\"Selected option with index:\", select_index)\n",
    "else:\n",
    "    print(\"No matches found.\")\n",
    "\n"
   ]
  },
  {
   "cell_type": "markdown",
   "id": "8a501503",
   "metadata": {},
   "source": [
    "# Survey No."
   ]
  },
  {
   "cell_type": "code",
   "execution_count": null,
   "id": "6f5993aa",
   "metadata": {},
   "outputs": [],
   "source": [
    "select_element = Select(driver.find_element(By.ID,\"surveyIdselect\"))\n",
    "\n",
    "# Get all options within the <select> element\n",
    "options = select_element.options\n",
    "\n",
    "# Iterate over options and print their index number and text\n",
    "for index, option in enumerate(options):\n",
    "    print(f\"{index}: {option.text}\")\n"
   ]
  },
  {
   "cell_type": "code",
   "execution_count": null,
   "id": "a0263885",
   "metadata": {},
   "outputs": [],
   "source": []
  }
 ],
 "metadata": {
  "kernelspec": {
   "display_name": "Python 3 (ipykernel)",
   "language": "python",
   "name": "python3"
  },
  "language_info": {
   "codemirror_mode": {
    "name": "ipython",
    "version": 3
   },
   "file_extension": ".py",
   "mimetype": "text/x-python",
   "name": "python",
   "nbconvert_exporter": "python",
   "pygments_lexer": "ipython3",
   "version": "3.11.5"
  }
 },
 "nbformat": 4,
 "nbformat_minor": 5
}
